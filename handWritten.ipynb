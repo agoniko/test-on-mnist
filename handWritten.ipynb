{
 "cells": [
  {
   "cell_type": "code",
   "execution_count": 1,
   "metadata": {
    "collapsed": true,
    "ExecuteTime": {
     "end_time": "2023-05-03T13:21:28.873954181Z",
     "start_time": "2023-05-03T13:21:27.289650221Z"
    }
   },
   "outputs": [
    {
     "name": "stdout",
     "output_type": "stream",
     "text": [
      "# digits: 10; # samples: 1797; # features 64\n",
      "cpu\n"
     ]
    }
   ],
   "source": [
    "import numpy as np\n",
    "from sklearn.datasets import load_digits\n",
    "import matplotlib.pyplot as plt\n",
    "from sklearn import metrics\n",
    "from sklearn.model_selection import train_test_split\n",
    "import torch.nn as nn\n",
    "import torch\n",
    "import torchvision\n",
    "import torch.optim as optim\n",
    "from tqdm import tqdm\n",
    "\n",
    "\n",
    "data, labels = load_digits(return_X_y=True)\n",
    "(n_samples, n_features), n_digits = data.shape, np.unique(labels).size\n",
    "#device = torch.device(\"mps\")\n",
    "device = torch.device(\"cpu\")\n",
    "print(f\"# digits: {n_digits}; # samples: {n_samples}; # features {n_features}\")\n",
    "print(device)"
   ]
  },
  {
   "cell_type": "code",
   "execution_count": 2,
   "outputs": [],
   "source": [
    "#design a torch nn that classifies digits images using conv layers\n",
    "class ConvNet(nn.Module):\n",
    "    def __init__(self, n_digits):\n",
    "        super(ConvNet, self).__init__()\n",
    "        self.conv1 = nn.Conv2d(1, 32, kernel_size=3, stride=1, padding=1)\n",
    "        self.conv2 = nn.Conv2d(32, 64, kernel_size=3, stride=1, padding=1)\n",
    "        self.fc1 = nn.Linear(1024, 128)\n",
    "        self.fc2 = nn.Linear(128, n_digits)\n",
    "        self.relu = nn.ReLU()\n",
    "        self.maxpool = nn.MaxPool2d(kernel_size=2, stride=2)\n",
    "        self.dropout = nn.Dropout(0.25)\n",
    "        self.softmax = nn.Softmax(dim=1)\n",
    "\n",
    "    def forward(self, x):\n",
    "        x = self.conv1(x)\n",
    "        x = self.relu(x)\n",
    "        x = self.conv2(x)\n",
    "        x = self.relu(x)\n",
    "        x = self.maxpool(x)\n",
    "        x = self.dropout(x)\n",
    "        x = torch.flatten(x, 1)\n",
    "        x = self.fc1(x)\n",
    "        x = self.relu(x)\n",
    "        x = self.dropout(x)\n",
    "        x = self.fc2(x)\n",
    "        x = self.softmax(x)\n",
    "        return x"
   ],
   "metadata": {
    "collapsed": false,
    "ExecuteTime": {
     "end_time": "2023-05-03T13:21:28.880363319Z",
     "start_time": "2023-05-03T13:21:28.877584593Z"
    }
   }
  },
  {
   "cell_type": "code",
   "execution_count": 3,
   "outputs": [],
   "source": [
    "def train(model, train_loader):\n",
    "    model.train()\n",
    "    criterion = nn.CrossEntropyLoss()\n",
    "    optimizer = optim.Adam(model.parameters(), lr=0.001)\n",
    "\n",
    "    for epoch in tqdm(range(1, 100)):\n",
    "        for batch_idx, (data, target) in enumerate(train_loader):\n",
    "            data, target = data.to(device), target.to(device)\n",
    "            optimizer.zero_grad()\n",
    "            output = model(data)\n",
    "            loss = criterion(output, target)\n",
    "            loss.backward()\n",
    "            optimizer.step()\n"
   ],
   "metadata": {
    "collapsed": false,
    "ExecuteTime": {
     "end_time": "2023-05-03T13:21:28.931365196Z",
     "start_time": "2023-05-03T13:21:28.882450605Z"
    }
   }
  },
  {
   "cell_type": "code",
   "execution_count": 4,
   "outputs": [
    {
     "data": {
      "text/plain": "(1797, 1, 8, 8)"
     },
     "execution_count": 4,
     "metadata": {},
     "output_type": "execute_result"
    }
   ],
   "source": [
    "data2 = np.reshape(data, (len(data), 1, 8, 8))\n",
    "data2.shape"
   ],
   "metadata": {
    "collapsed": false,
    "ExecuteTime": {
     "end_time": "2023-05-03T13:21:28.950312702Z",
     "start_time": "2023-05-03T13:21:28.896684430Z"
    }
   }
  },
  {
   "cell_type": "code",
   "execution_count": 5,
   "outputs": [],
   "source": [
    "from torch.utils.data import DataLoader, TensorDataset\n",
    "X_train, X_test, y_train, y_test = train_test_split(data2, labels, test_size=0.2, random_state=0)\n",
    "\n",
    "train_loader = DataLoader(TensorDataset(torch.from_numpy(X_train).float(), torch.from_numpy(y_train).long()), batch_size=128, shuffle=True, pin_memory=True)\n",
    "test_loader = DataLoader(TensorDataset(torch.from_numpy(X_test).float(), torch.from_numpy(y_test).long()), batch_size=128, shuffle=True, pin_memory=True)"
   ],
   "metadata": {
    "collapsed": false,
    "ExecuteTime": {
     "end_time": "2023-05-03T13:21:28.950641283Z",
     "start_time": "2023-05-03T13:21:28.906722387Z"
    }
   }
  },
  {
   "cell_type": "code",
   "execution_count": 6,
   "outputs": [
    {
     "name": "stdout",
     "output_type": "stream",
     "text": [
      "--- 4.029273986816406e-05 seconds ---\n"
     ]
    }
   ],
   "source": [
    "import time\n",
    "model = ConvNet(n_digits).to(device)\n",
    "start_time = time.time()\n",
    "#train(model, train_loader)\n",
    "print(f\"--- {time.time() - start_time} seconds ---\")"
   ],
   "metadata": {
    "collapsed": false,
    "ExecuteTime": {
     "end_time": "2023-05-03T13:21:28.950861333Z",
     "start_time": "2023-05-03T13:21:28.949597182Z"
    }
   }
  },
  {
   "cell_type": "code",
   "execution_count": 7,
   "outputs": [
    {
     "name": "stdout",
     "output_type": "stream",
     "text": [
      "Accuracy: 0.08611111111111111\n"
     ]
    }
   ],
   "source": [
    "model.eval()\n",
    "pred = model(torch.from_numpy(X_test).float().to(device))\n",
    "print(f\"Accuracy: {metrics.accuracy_score(y_test, pred.argmax(dim=1).cpu().numpy())}\")"
   ],
   "metadata": {
    "collapsed": false,
    "ExecuteTime": {
     "end_time": "2023-05-03T13:21:28.951031506Z",
     "start_time": "2023-05-03T13:21:28.949831742Z"
    }
   }
  },
  {
   "cell_type": "code",
   "execution_count": 8,
   "outputs": [
    {
     "name": "stdout",
     "output_type": "stream",
     "text": [
      "[4 2 2 2 2 4 2 2 2 4]\n"
     ]
    },
    {
     "data": {
      "text/plain": "<Figure size 1200x600 with 10 Axes>",
      "image/png": "[encoded data removed]"
     },
     "metadata": {},
     "output_type": "display_data"
    }
   ],
   "source": [
    "samples = np.random.randint(0, len(X_test), 10)\n",
    "pred_samples = np.argmax(model(torch.from_numpy(X_test[samples]).float().to(device)).detach().cpu().numpy(), axis = 1)\n",
    "real_labels = y_test[samples]\n",
    "print(pred_samples)\n",
    "sample_images = X_test[samples].reshape(10, 8, 8)\n",
    "fig, axes = plt.subplots(1, 10, figsize=(12, 6))\n",
    "for i in range(10):\n",
    "    axes[i].imshow(sample_images[i], cmap=plt.cm.gray_r, interpolation='nearest')\n",
    "    axes[i].set_xticks(())\n",
    "    axes[i].set_yticks(())\n",
    "    axes[i].set_xlabel(f\"pred: {pred_samples[i]}\\n Real {real_labels[i]}\")"
   ],
   "metadata": {
    "collapsed": false,
    "ExecuteTime": {
     "end_time": "2023-05-03T13:21:29.296270141Z",
     "start_time": "2023-05-03T13:21:28.950177752Z"
    }
   }
  },
  {
   "cell_type": "markdown",
   "source": [
    "# Good! Let's try with MNIST database"
   ],
   "metadata": {
    "collapsed": false
   }
  },
  {
   "cell_type": "code",
   "execution_count": 9,
   "outputs": [
    {
     "data": {
      "text/plain": "<torch._C.Generator at 0x7efec4c12970>"
     },
     "execution_count": 9,
     "metadata": {},
     "output_type": "execute_result"
    }
   ],
   "source": [
    "n_epochs = 10\n",
    "batch_size_train = 64\n",
    "batch_size_test = 1000\n",
    "learning_rate = 0.001\n",
    "momentum = 0.5\n",
    "log_interval = 10\n",
    "\n",
    "random_seed = 1\n",
    "torch.backends.cudnn.enabled = False\n",
    "torch.manual_seed(random_seed)"
   ],
   "metadata": {
    "collapsed": false,
    "ExecuteTime": {
     "end_time": "2023-05-03T13:21:29.350247558Z",
     "start_time": "2023-05-03T13:21:29.298072514Z"
    }
   }
  },
  {
   "cell_type": "code",
   "execution_count": 10,
   "outputs": [],
   "source": [
    "train_loader = torch.utils.data.DataLoader(\n",
    "  torchvision.datasets.MNIST('./data', train=True, download=True,\n",
    "                             transform=torchvision.transforms.Compose([\n",
    "                               torchvision.transforms.ToTensor(),\n",
    "                               torchvision.transforms.Normalize(\n",
    "                                 (0.1307,), (0.3081,))\n",
    "                             ])),\n",
    "  batch_size=batch_size_train, shuffle=True, pin_memory=True)\n",
    "\n",
    "test_loader = torch.utils.data.DataLoader(\n",
    "  torchvision.datasets.MNIST('./data', train=False, download=True,\n",
    "                             transform=torchvision.transforms.Compose([\n",
    "                               torchvision.transforms.ToTensor(),\n",
    "                               torchvision.transforms.Normalize(\n",
    "                                 (0.1307,), (0.3081,))\n",
    "                             ])),\n",
    "  batch_size=batch_size_test, shuffle=True, pin_memory=True)"
   ],
   "metadata": {
    "collapsed": false,
    "ExecuteTime": {
     "end_time": "2023-05-03T13:21:29.408639024Z",
     "start_time": "2023-05-03T13:21:29.341596033Z"
    }
   }
  },
  {
   "cell_type": "code",
   "execution_count": 11,
   "outputs": [],
   "source": [
    "class Net(nn.Module):\n",
    "    def __init__(self):\n",
    "        super(Net, self).__init__()\n",
    "        self.conv = nn.Sequential(\n",
    "            nn.Conv2d(1, 16, kernel_size = 5),\n",
    "            nn.ReLU(),\n",
    "            nn.Conv2d(16, 64, kernel_size = 5),\n",
    "            nn.ReLU(),\n",
    "            nn.MaxPool2d(4),\n",
    "            nn.Dropout(0.25),\n",
    "            nn.Flatten(),\n",
    "            nn.Linear(64*5*5, 128),\n",
    "            nn.ReLU(),\n",
    "            nn.Linear(128, 10),\n",
    "            nn.Softmax(dim=1)\n",
    "        )\n",
    "\n",
    "    def forward(self, x):\n",
    "        return self.conv(x)"
   ],
   "metadata": {
    "collapsed": false,
    "ExecuteTime": {
     "end_time": "2023-05-03T13:21:29.414101473Z",
     "start_time": "2023-05-03T13:21:29.385704387Z"
    }
   }
  },
  {
   "cell_type": "code",
   "execution_count": 12,
   "outputs": [],
   "source": [
    "def train(model, train_loader):\n",
    "    model.train()\n",
    "    criterion = nn.CrossEntropyLoss()\n",
    "    optimizer = optim.Adam(model.parameters(), lr=learning_rate)\n",
    "\n",
    "    for epoch in tqdm(range(1, n_epochs)):\n",
    "        for batch_idx, (data, target) in enumerate(train_loader):\n",
    "            data, target = data.to(device), target.to(device)\n",
    "            optimizer.zero_grad()\n",
    "            output = model(data)\n",
    "            loss = criterion(output, target)\n",
    "            loss.backward()\n",
    "            optimizer.step()"
   ],
   "metadata": {
    "collapsed": false,
    "ExecuteTime": {
     "end_time": "2023-05-03T13:21:29.441051706Z",
     "start_time": "2023-05-03T13:21:29.385900681Z"
    }
   }
  },
  {
   "cell_type": "code",
   "execution_count": 13,
   "outputs": [
    {
     "name": "stdout",
     "output_type": "stream",
     "text": [
      "--- 4.887580871582031e-05 seconds ---\n"
     ]
    }
   ],
   "source": [
    "model = Net().to(device)\n",
    "start_time = time.time()\n",
    "#train(model, train_loader)\n",
    "print(f\"--- {time.time() - start_time} seconds ---\")\n",
    "#torch.save(model, \"./models/mnist_model.pt\")"
   ],
   "metadata": {
    "collapsed": false,
    "ExecuteTime": {
     "end_time": "2023-05-03T13:21:29.441445809Z",
     "start_time": "2023-05-03T13:21:29.433613018Z"
    }
   }
  },
  {
   "cell_type": "code",
   "execution_count": 14,
   "outputs": [],
   "source": [
    "model = torch.load(\"./models/mnist_model.pt\")"
   ],
   "metadata": {
    "collapsed": false,
    "ExecuteTime": {
     "end_time": "2023-05-03T13:21:29.441563895Z",
     "start_time": "2023-05-03T13:21:29.433840908Z"
    }
   }
  },
  {
   "cell_type": "code",
   "execution_count": 15,
   "outputs": [
    {
     "data": {
      "text/plain": "<Figure size 2000x1000 with 10 Axes>",
      "image/png": "[encoded data removed]"
     },
     "metadata": {},
     "output_type": "display_data"
    }
   ],
   "source": [
    "model.eval()\n",
    "examples = enumerate(test_loader)\n",
    "batch_idx, (example_data, example_targets) = next(examples)\n",
    "\n",
    "samples = np.random.randint(0, len(example_data), 10)\n",
    "pred_samples = np.argmax(model(example_data[samples].to(device)).detach().cpu().numpy(), axis = 1)\n",
    "real_targets = example_targets[samples]\n",
    "\n",
    "sample_images = example_data[samples].reshape(10, 28, 28)\n",
    "fig, axes = plt.subplots(1, 10, figsize=(20, 10))\n",
    "for i in range(10):\n",
    "    axes[i].imshow(sample_images[i], cmap=plt.cm.gray_r, interpolation='nearest')\n",
    "    axes[i].set_xticks(())\n",
    "    axes[i].set_yticks(())\n",
    "    axes[i].set_xlabel(f\"pred: {pred_samples[i]}\\n Real {real_targets[i]}\")\n"
   ],
   "metadata": {
    "collapsed": false,
    "ExecuteTime": {
     "end_time": "2023-05-03T13:21:29.802123902Z",
     "start_time": "2023-05-03T13:21:29.433939946Z"
    }
   }
  },
  {
   "cell_type": "code",
   "execution_count": 16,
   "outputs": [
    {
     "data": {
      "text/plain": "(70000, 28, 28)"
     },
     "execution_count": 16,
     "metadata": {},
     "output_type": "execute_result"
    }
   ],
   "source": [
    "images = None\n",
    "labels = None\n",
    "for img, lab in train_loader:\n",
    "    if images is None:\n",
    "        images = np.array(img)\n",
    "        labels = np.array(lab)\n",
    "    else:\n",
    "        images = np.concatenate((images, img), axis = 0)\n",
    "        labels = np.concatenate((labels, lab), axis = 0)\n",
    "\n",
    "for img, lab in test_loader:\n",
    "    if images is None:\n",
    "        images = np.array(img)\n",
    "        labels = np.array(lab)\n",
    "    else:\n",
    "        images = np.concatenate((images, img), axis = 0)\n",
    "        labels = np.concatenate((labels, lab), axis = 0)\n",
    "\n",
    "images = images.reshape(len(images), 28, 28)\n",
    "images.shape"
   ],
   "metadata": {
    "collapsed": false,
    "ExecuteTime": {
     "end_time": "2023-05-03T13:21:53.689533668Z",
     "start_time": "2023-05-03T13:21:29.804325060Z"
    }
   }
  },
  {
   "cell_type": "code",
   "execution_count": 17,
   "outputs": [],
   "source": [
    "def median_matrix(matrices):\n",
    "    # Step 1: Flatten each matrix into a vector\n",
    "    flattened_matrices = [matrix.flatten() for matrix in matrices]\n",
    "\n",
    "    # Step 2: Stack the flattened matrices\n",
    "    stacked_matrix = np.column_stack(flattened_matrices)\n",
    "\n",
    "    # Step 3: Compute the median vector\n",
    "    median_vector = np.median(stacked_matrix, axis=1)\n",
    "\n",
    "    # Step 4: Reshape the median vector\n",
    "    return median_vector.reshape(matrices[0].shape)"
   ],
   "metadata": {
    "collapsed": false,
    "ExecuteTime": {
     "end_time": "2023-05-03T13:21:53.692896271Z",
     "start_time": "2023-05-03T13:21:53.689173930Z"
    }
   }
  },
  {
   "cell_type": "code",
   "execution_count": 18,
   "outputs": [],
   "source": [
    "med = None\n",
    "for i in range(10):\n",
    "    if med is None:\n",
    "        med = np.array([median_matrix(images[np.where(labels == i)])])\n",
    "    else:\n",
    "        med = np.append(med, [median_matrix(images[np.where(labels == i)])], axis = 0)"
   ],
   "metadata": {
    "collapsed": false,
    "ExecuteTime": {
     "end_time": "2023-05-03T13:21:54.197668027Z",
     "start_time": "2023-05-03T13:21:53.693108277Z"
    }
   }
  },
  {
   "cell_type": "code",
   "execution_count": 19,
   "outputs": [],
   "source": [
    "def thresholding(img, threshold):\n",
    "    img[img < threshold] = 0\n",
    "    img[img >= threshold] = 120\n",
    "    return img\n",
    "\n",
    "#med = np.array([thresholding(med[i], 0.8) for i in range(10)])\n"
   ],
   "metadata": {
    "collapsed": false,
    "ExecuteTime": {
     "end_time": "2023-05-03T13:21:54.205484053Z",
     "start_time": "2023-05-03T13:21:54.198027513Z"
    }
   }
  },
  {
   "cell_type": "code",
   "execution_count": 20,
   "outputs": [
    {
     "data": {
      "text/plain": "<matplotlib.image.AxesImage at 0x7efe295e7fa0>"
     },
     "execution_count": 20,
     "metadata": {},
     "output_type": "execute_result"
    },
    {
     "data": {
      "text/plain": "<Figure size 640x480 with 1 Axes>",
      "image/png": "[encoded data removed]"
     },
     "metadata": {},
     "output_type": "display_data"
    }
   ],
   "source": [
    "plt.imshow(med[9], cmap = \"gray\")"
   ],
   "metadata": {
    "collapsed": false,
    "ExecuteTime": {
     "end_time": "2023-05-03T13:21:54.326803806Z",
     "start_time": "2023-05-03T13:21:54.201629214Z"
    }
   }
  },
  {
   "cell_type": "markdown",
   "source": [
    "The classes are balanced so i will take a 10 percent of sampled as unclassifiable"
   ],
   "metadata": {
    "collapsed": false
   }
  },
  {
   "cell_type": "code",
   "execution_count": 21,
   "outputs": [
    {
     "name": "stdout",
     "output_type": "stream",
     "text": [
      "0: 0.09861428571428571\n",
      "1: 0.11252857142857142\n",
      "2: 0.09985714285714285\n",
      "3: 0.10201428571428571\n",
      "4: 0.09748571428571429\n",
      "5: 0.09018571428571429\n",
      "6: 0.09822857142857143\n",
      "7: 0.10418571428571428\n",
      "8: 0.0975\n",
      "9: 0.0994\n"
     ]
    }
   ],
   "source": [
    "for i in range(10):\n",
    "    print(f\"{i}: {len(labels[labels == i]) / len(labels)}\")"
   ],
   "metadata": {
    "collapsed": false,
    "ExecuteTime": {
     "end_time": "2023-05-03T13:21:54.336457767Z",
     "start_time": "2023-05-03T13:21:54.326625311Z"
    }
   }
  },
  {
   "cell_type": "code",
   "execution_count": 22,
   "outputs": [],
   "source": [
    "from numpy.linalg import norm\n",
    "\n",
    "def get_cosine_similarity(image, median_image):\n",
    "     return np.dot(image.flatten(),median_image.flatten())/(norm(image.flatten())*norm(median_image.flatten()))"
   ],
   "metadata": {
    "collapsed": false,
    "ExecuteTime": {
     "end_time": "2023-05-03T13:21:54.344896799Z",
     "start_time": "2023-05-03T13:21:54.333574989Z"
    }
   }
  },
  {
   "cell_type": "code",
   "execution_count": 23,
   "outputs": [],
   "source": [
    "t_images = thresholding(images, 0.3)"
   ],
   "metadata": {
    "collapsed": false,
    "ExecuteTime": {
     "end_time": "2023-05-03T13:21:54.525375643Z",
     "start_time": "2023-05-03T13:21:54.339024676Z"
    }
   }
  },
  {
   "cell_type": "code",
   "execution_count": 24,
   "outputs": [
    {
     "data": {
      "text/plain": "<matplotlib.image.AxesImage at 0x7efe291be8f0>"
     },
     "execution_count": 24,
     "metadata": {},
     "output_type": "execute_result"
    },
    {
     "data": {
      "text/plain": "<Figure size 640x480 with 1 Axes>",
      "image/png": "[encoded data removed]"
     },
     "metadata": {},
     "output_type": "display_data"
    }
   ],
   "source": [
    "plt.imshow(t_images[3], cmap = \"gray\")"
   ],
   "metadata": {
    "collapsed": false,
    "ExecuteTime": {
     "end_time": "2023-05-03T13:21:54.715000455Z",
     "start_time": "2023-05-03T13:21:54.540271747Z"
    }
   }
  },
  {
   "cell_type": "code",
   "execution_count": 25,
   "outputs": [],
   "source": [
    "distances = []\n",
    "new_labels = labels.copy()\n",
    "for i in range(10):\n",
    "    i_digits = images[np.where(labels == i)]\n",
    "    #distances.append([np.mean((med[i] - img)**2) for img in i_digits])\n",
    "    #index_largest = np.argsort(distances[i])[-50:] #i take the worst 5 percent\n",
    "    distances.append([get_cosine_similarity(img, med[i]) for img in i_digits])\n",
    "    #index_largest = np.argsort(distances[i])[:int(len(distances[i]) * 0.05)] #i take the worst 5 percent\n",
    "    #index_largest = np.where(distances > 0.7)\n",
    "    index_largest = np.where(np.array(distances[i]) < 0.1)[0]\n",
    "    new_labels[index_largest] = 10 #I mark with 10 the worst images"
   ],
   "metadata": {
    "collapsed": false,
    "ExecuteTime": {
     "end_time": "2023-05-03T13:21:55.462618592Z",
     "start_time": "2023-05-03T13:21:54.717054747Z"
    }
   }
  },
  {
   "cell_type": "code",
   "execution_count": 26,
   "outputs": [
    {
     "data": {
      "text/plain": "854"
     },
     "execution_count": 26,
     "metadata": {},
     "output_type": "execute_result"
    }
   ],
   "source": [
    "len(np.where(new_labels == 10)[0])"
   ],
   "metadata": {
    "collapsed": false,
    "ExecuteTime": {
     "end_time": "2023-05-03T13:21:55.515306937Z",
     "start_time": "2023-05-03T13:21:55.465752042Z"
    }
   }
  },
  {
   "cell_type": "code",
   "execution_count": 27,
   "outputs": [
    {
     "ename": "NameError",
     "evalue": "name 'sample' is not defined",
     "output_type": "error",
     "traceback": [
      "\u001B[0;31m---------------------------------------------------------------------------\u001B[0m",
      "\u001B[0;31mNameError\u001B[0m                                 Traceback (most recent call last)",
      "Cell \u001B[0;32mIn[27], line 1\u001B[0m\n\u001B[0;32m----> 1\u001B[0m labels[\u001B[43msample\u001B[49m]\n",
      "\u001B[0;31mNameError\u001B[0m: name 'sample' is not defined"
     ]
    }
   ],
   "source": [
    "labels[sample]"
   ],
   "metadata": {
    "collapsed": false,
    "ExecuteTime": {
     "end_time": "2023-05-03T13:21:55.774127739Z",
     "start_time": "2023-05-03T13:21:55.509576954Z"
    }
   }
  },
  {
   "cell_type": "code",
   "execution_count": null,
   "outputs": [],
   "source": [
    "sample = np.where(new_labels == 10)[0][np.random.randint(0, 73, 1)[0]]\n",
    "print(labels[sample])\n",
    "plt.imshow(images[sample], cmap = \"gray\")\n",
    "plt.show()"
   ],
   "metadata": {
    "collapsed": false
   }
  },
  {
   "cell_type": "code",
   "execution_count": null,
   "outputs": [],
   "source": [
    "cosine_labels = []\n",
    "for i, img in enumerate(images):\n",
    "    dist = [get_cosine_similarity(img, med[j]) for j in range(10)]\n",
    "    cosine_labels.append(np.argmax(dist))"
   ],
   "metadata": {
    "collapsed": false
   }
  },
  {
   "cell_type": "code",
   "execution_count": null,
   "outputs": [],
   "source": [
    "#compare how many cosine_labes are equals to the labels\n",
    "print(f\"Accuracy: {np.sum(np.array(cosine_labels) == labels) / len(labels)}\")"
   ],
   "metadata": {
    "collapsed": false
   }
  }
 ],
 "metadata": {
  "kernelspec": {
   "display_name": "Python 3",
   "language": "python",
   "name": "python3"
  },
  "language_info": {
   "codemirror_mode": {
    "name": "ipython",
    "version": 2
   },
   "file_extension": ".py",
   "mimetype": "text/x-python",
   "name": "python",
   "nbconvert_exporter": "python",
   "pygments_lexer": "ipython2",
   "version": "2.7.6"
  }
 },
 "nbformat": 4,
 "nbformat_minor": 0
}
